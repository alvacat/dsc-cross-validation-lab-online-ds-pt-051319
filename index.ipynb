{
 "cells": [
  {
   "cell_type": "markdown",
   "metadata": {},
   "source": [
    "# Introduction to Cross-Validation - Lab\n",
    "\n",
    "## Introduction\n",
    "\n",
    "In this lab, you'll be able to practice your cross-validation skills!\n",
    "\n",
    "\n",
    "## Objectives\n",
    "\n",
    "You will be able to:\n",
    "\n",
    "- Compare the results with normal holdout validation\n",
    "- Apply 5-fold cross validation for regression"
   ]
  },
  {
   "cell_type": "markdown",
   "metadata": {},
   "source": [
    "## Let's get started\n",
    "\n",
    "This time, let's only include the variables that were previously selected using recursive feature elimination. We included the code to preprocess below."
   ]
  },
  {
   "cell_type": "code",
   "execution_count": 1,
   "metadata": {},
   "outputs": [],
   "source": [
    "import pandas as pd\n",
    "import numpy as np\n",
    "import matplotlib.pyplot as plt\n",
    "%matplotlib inline\n",
    "from sklearn.datasets import load_boston\n",
    "\n",
    "boston = load_boston()\n",
    "\n",
    "boston_features = pd.DataFrame(boston.data, columns = boston.feature_names)\n",
    "b = boston_features[\"B\"]\n",
    "logdis = np.log(boston_features[\"DIS\"])\n",
    "loglstat = np.log(boston_features[\"LSTAT\"])\n",
    "\n",
    "# minmax scaling\n",
    "boston_features[\"B\"] = (b-min(b))/(max(b)-min(b))\n",
    "boston_features[\"DIS\"] = (logdis-min(logdis))/(max(logdis)-min(logdis))\n",
    "\n",
    "#standardization\n",
    "boston_features[\"LSTAT\"] = (loglstat-np.mean(loglstat))/np.sqrt(np.var(loglstat))"
   ]
  },
  {
   "cell_type": "code",
   "execution_count": 2,
   "metadata": {},
   "outputs": [],
   "source": [
    "X = boston_features\n",
    "y = pd.DataFrame(boston.target,columns=['price'])"
   ]
  },
  {
   "cell_type": "markdown",
   "metadata": {},
   "source": [
    "## Train test split\n",
    "\n",
    "Perform a train-test-split with a test set of 0.20."
   ]
  },
  {
   "cell_type": "code",
   "execution_count": 3,
   "metadata": {},
   "outputs": [],
   "source": [
    "from sklearn.model_selection import train_test_split"
   ]
  },
  {
   "cell_type": "code",
   "execution_count": 11,
   "metadata": {},
   "outputs": [],
   "source": [
    "X_train,X_test,y_train,y_test=train_test_split(X,y,test_size=0.2)"
   ]
  },
  {
   "cell_type": "markdown",
   "metadata": {},
   "source": [
    "Fit the model and apply the model to the make test set predictions"
   ]
  },
  {
   "cell_type": "code",
   "execution_count": 13,
   "metadata": {},
   "outputs": [],
   "source": [
    "from sklearn.linear_model import LinearRegression\n",
    "linreg=LinearRegression()\n",
    "linreg.fit(X_train,y_train)\n",
    "y_hat_train=linreg.predict(X_train)\n",
    "y_hat_test=linreg.predict(X_test)"
   ]
  },
  {
   "cell_type": "markdown",
   "metadata": {},
   "source": [
    "Calculate the residuals and the mean squared error"
   ]
  },
  {
   "cell_type": "code",
   "execution_count": 15,
   "metadata": {},
   "outputs": [
    {
     "name": "stdout",
     "output_type": "stream",
     "text": [
      "Training Mean Square Error: 16.821201510069898\n",
      "Testing Mean Square Error: 15.887117485431336\n"
     ]
    }
   ],
   "source": [
    "train_residuals=y_train-y_hat_train\n",
    "test_residuals=y_test-y_hat_test\n",
    "\n",
    "from sklearn.metrics import mean_squared_error\n",
    "train_mse=mean_squared_error(y_train,y_hat_train)\n",
    "test_mse=mean_squared_error(y_test,y_hat_test)\n",
    "\n",
    "print(f\"Training Mean Square Error: {train_mse}\")\n",
    "print(f\"Testing Mean Square Error: {test_mse}\")"
   ]
  },
  {
   "cell_type": "markdown",
   "metadata": {},
   "source": [
    "## Cross-Validation: let's build it from scratch!"
   ]
  },
  {
   "cell_type": "markdown",
   "metadata": {},
   "source": [
    "### Create a cross-validation function"
   ]
  },
  {
   "cell_type": "markdown",
   "metadata": {},
   "source": [
    "Write a function k-folds that splits a dataset into k evenly sized pieces.\n",
    "If the full dataset is not divisible by k, make the first few folds one larger then later ones.\n",
    "\n",
    "We want the folds to be a list of subsets of data!"
   ]
  },
  {
   "cell_type": "code",
   "execution_count": 53,
   "metadata": {},
   "outputs": [],
   "source": [
    "def kfolds_dev(data, k):\n",
    "    # Force data as pandas dataframe\n",
    "    data_df=pd.DataFrame(data)\n",
    "    \n",
    "    folds=[]\n",
    "    fold_size=len(data_df.index)//k\n",
    "    leftovers=len(data_df.index)%k # number of leftovers tell us how many folds need to be +1 row bigger\n",
    "    start_slice=0\n",
    "    for i in list(range(k)):\n",
    "        if leftovers==0:\n",
    "            end_slice=start_slice + fold_size-1\n",
    "            print(f\"Leftovers: {leftovers}, Start slice: {start_slice}, End slice: {end_slice}. Currently in 'if'.\")\n",
    "            folds.append(data_df.loc[start_slice:end_slice])\n",
    "            start_slice=end_slice+1\n",
    "        else:\n",
    "            end_slice=start_slice + fold_size\n",
    "            print(f\"Leftovers: {leftovers}, Start slice: {start_slice}, End slice: {end_slice}. Currently in 'else'.\")\n",
    "            folds.append(data_df.loc[start_slice:end_slice])\n",
    "            start_slice=end_slice+1\n",
    "            leftovers-=1\n",
    "    return folds\n",
    "\n"
   ]
  },
  {
   "cell_type": "code",
   "execution_count": 65,
   "metadata": {},
   "outputs": [
    {
     "name": "stdout",
     "output_type": "stream",
     "text": [
      "Leftovers: 2, Start slice: 0, End slice: 1. Currently in 'else'.\n",
      "Leftovers: 1, Start slice: 2, End slice: 3. Currently in 'else'.\n",
      "Leftovers: 0, Start slice: 4, End slice: 4. Currently in 'if'.\n",
      "Leftovers: 0, Start slice: 5, End slice: 5. Currently in 'if'.\n",
      "                    A                   B    C    D    E   F\n",
      "0  [0, 1, 2, 3, 4, 5]                 NaN  NaN  NaN  NaN NaN\n",
      "1                 NaN  [0, 1, 2, 3, 4, 5]  NaN  NaN  NaN NaN\n",
      "     A    B                   C                   D    E   F\n",
      "2  NaN  NaN  [0, 1, 2, 3, 4, 5]                 NaN  NaN NaN\n",
      "3  NaN  NaN                 NaN  [0, 1, 2, 3, 4, 5]  NaN NaN\n",
      "     A    B    C    D                   E   F\n",
      "4  NaN  NaN  NaN  NaN  [0, 1, 2, 3, 4, 5] NaN\n",
      "     A    B    C    D    E    F\n",
      "5  NaN  NaN  NaN  NaN  NaN  6.0\n"
     ]
    }
   ],
   "source": [
    "testing=[{'A':[0,1,2,3,4,5]},{'B':[0,1,2,3,4,5]},{'C':[0,1,2,3,4,5]},{'D':[0,1,2,3,4,5]},{'E':[0,1,2,3,4,5]},{'F':6}]\n",
    "split=kfolds_dev(testing,4)\n",
    "print(split[0])\n",
    "print(split[1])\n",
    "print(split[2])\n",
    "print(split[3])"
   ]
  },
  {
   "cell_type": "markdown",
   "metadata": {},
   "source": [
    "Now that I've got it up and running correctly, I'll take out the print statements and testing stuff."
   ]
  },
  {
   "cell_type": "code",
   "execution_count": 66,
   "metadata": {},
   "outputs": [],
   "source": [
    "def kfolds(data, k):\n",
    "    # Force data as pandas dataframe\n",
    "    data_df=pd.DataFrame(data)\n",
    "    \n",
    "    folds=[]\n",
    "    fold_size=len(data_df.index)//k\n",
    "    leftovers=len(data_df.index)%k # number of leftovers tell us how many folds need to be +1 row bigger\n",
    "    start_slice=0\n",
    "    for i in list(range(k)):\n",
    "        if leftovers==0:\n",
    "            end_slice=start_slice + fold_size-1\n",
    "            folds.append(data_df.loc[start_slice:end_slice])\n",
    "            start_slice=end_slice+1\n",
    "        else:\n",
    "            end_slice=start_slice + fold_size\n",
    "            folds.append(data_df.loc[start_slice:end_slice])\n",
    "            start_slice=end_slice+1\n",
    "            leftovers-=1\n",
    "    return folds"
   ]
  },
  {
   "cell_type": "markdown",
   "metadata": {},
   "source": [
    "### Apply it to the Boston Housing Data"
   ]
  },
  {
   "cell_type": "code",
   "execution_count": 67,
   "metadata": {},
   "outputs": [
    {
     "data": {
      "text/html": [
       "<div>\n",
       "<style scoped>\n",
       "    .dataframe tbody tr th:only-of-type {\n",
       "        vertical-align: middle;\n",
       "    }\n",
       "\n",
       "    .dataframe tbody tr th {\n",
       "        vertical-align: top;\n",
       "    }\n",
       "\n",
       "    .dataframe thead th {\n",
       "        text-align: right;\n",
       "    }\n",
       "</style>\n",
       "<table border=\"1\" class=\"dataframe\">\n",
       "  <thead>\n",
       "    <tr style=\"text-align: right;\">\n",
       "      <th></th>\n",
       "      <th>CRIM</th>\n",
       "      <th>ZN</th>\n",
       "      <th>INDUS</th>\n",
       "      <th>CHAS</th>\n",
       "      <th>NOX</th>\n",
       "      <th>RM</th>\n",
       "      <th>AGE</th>\n",
       "      <th>DIS</th>\n",
       "      <th>RAD</th>\n",
       "      <th>TAX</th>\n",
       "      <th>PTRATIO</th>\n",
       "      <th>B</th>\n",
       "      <th>LSTAT</th>\n",
       "      <th>price</th>\n",
       "    </tr>\n",
       "  </thead>\n",
       "  <tbody>\n",
       "    <tr>\n",
       "      <th>0</th>\n",
       "      <td>0.00632</td>\n",
       "      <td>18.0</td>\n",
       "      <td>2.31</td>\n",
       "      <td>0.0</td>\n",
       "      <td>0.538</td>\n",
       "      <td>6.575</td>\n",
       "      <td>65.2</td>\n",
       "      <td>0.542096</td>\n",
       "      <td>1.0</td>\n",
       "      <td>296.0</td>\n",
       "      <td>15.3</td>\n",
       "      <td>1.000000</td>\n",
       "      <td>-1.275260</td>\n",
       "      <td>24.0</td>\n",
       "    </tr>\n",
       "    <tr>\n",
       "      <th>1</th>\n",
       "      <td>0.02731</td>\n",
       "      <td>0.0</td>\n",
       "      <td>7.07</td>\n",
       "      <td>0.0</td>\n",
       "      <td>0.469</td>\n",
       "      <td>6.421</td>\n",
       "      <td>78.9</td>\n",
       "      <td>0.623954</td>\n",
       "      <td>2.0</td>\n",
       "      <td>242.0</td>\n",
       "      <td>17.8</td>\n",
       "      <td>1.000000</td>\n",
       "      <td>-0.263711</td>\n",
       "      <td>21.6</td>\n",
       "    </tr>\n",
       "    <tr>\n",
       "      <th>2</th>\n",
       "      <td>0.02729</td>\n",
       "      <td>0.0</td>\n",
       "      <td>7.07</td>\n",
       "      <td>0.0</td>\n",
       "      <td>0.469</td>\n",
       "      <td>7.185</td>\n",
       "      <td>61.1</td>\n",
       "      <td>0.623954</td>\n",
       "      <td>2.0</td>\n",
       "      <td>242.0</td>\n",
       "      <td>17.8</td>\n",
       "      <td>0.989737</td>\n",
       "      <td>-1.627858</td>\n",
       "      <td>34.7</td>\n",
       "    </tr>\n",
       "    <tr>\n",
       "      <th>3</th>\n",
       "      <td>0.03237</td>\n",
       "      <td>0.0</td>\n",
       "      <td>2.18</td>\n",
       "      <td>0.0</td>\n",
       "      <td>0.458</td>\n",
       "      <td>6.998</td>\n",
       "      <td>45.8</td>\n",
       "      <td>0.707895</td>\n",
       "      <td>3.0</td>\n",
       "      <td>222.0</td>\n",
       "      <td>18.7</td>\n",
       "      <td>0.994276</td>\n",
       "      <td>-2.153192</td>\n",
       "      <td>33.4</td>\n",
       "    </tr>\n",
       "    <tr>\n",
       "      <th>4</th>\n",
       "      <td>0.06905</td>\n",
       "      <td>0.0</td>\n",
       "      <td>2.18</td>\n",
       "      <td>0.0</td>\n",
       "      <td>0.458</td>\n",
       "      <td>7.147</td>\n",
       "      <td>54.2</td>\n",
       "      <td>0.707895</td>\n",
       "      <td>3.0</td>\n",
       "      <td>222.0</td>\n",
       "      <td>18.7</td>\n",
       "      <td>1.000000</td>\n",
       "      <td>-1.162114</td>\n",
       "      <td>36.2</td>\n",
       "    </tr>\n",
       "  </tbody>\n",
       "</table>\n",
       "</div>"
      ],
      "text/plain": [
       "      CRIM    ZN  INDUS  CHAS    NOX     RM   AGE       DIS  RAD    TAX  \\\n",
       "0  0.00632  18.0   2.31   0.0  0.538  6.575  65.2  0.542096  1.0  296.0   \n",
       "1  0.02731   0.0   7.07   0.0  0.469  6.421  78.9  0.623954  2.0  242.0   \n",
       "2  0.02729   0.0   7.07   0.0  0.469  7.185  61.1  0.623954  2.0  242.0   \n",
       "3  0.03237   0.0   2.18   0.0  0.458  6.998  45.8  0.707895  3.0  222.0   \n",
       "4  0.06905   0.0   2.18   0.0  0.458  7.147  54.2  0.707895  3.0  222.0   \n",
       "\n",
       "   PTRATIO         B     LSTAT  price  \n",
       "0     15.3  1.000000 -1.275260   24.0  \n",
       "1     17.8  1.000000 -0.263711   21.6  \n",
       "2     17.8  0.989737 -1.627858   34.7  \n",
       "3     18.7  0.994276 -2.153192   33.4  \n",
       "4     18.7  1.000000 -1.162114   36.2  "
      ]
     },
     "execution_count": 67,
     "metadata": {},
     "output_type": "execute_result"
    }
   ],
   "source": [
    "boston_all = pd.concat([X, y], axis=1)\n",
    "boston_all.head()"
   ]
  },
  {
   "cell_type": "code",
   "execution_count": 78,
   "metadata": {},
   "outputs": [
    {
     "name": "stdout",
     "output_type": "stream",
     "text": [
      "RangeIndex(start=1, stop=103, step=1): Length 102\n",
      "RangeIndex(start=103, stop=204, step=1): Length 101\n",
      "RangeIndex(start=204, stop=305, step=1): Length 101\n",
      "RangeIndex(start=305, stop=406, step=1): Length 101\n",
      "RangeIndex(start=406, stop=507, step=1): Length 101\n"
     ]
    }
   ],
   "source": [
    "boston_splits=kfolds(boston_all,5)\n",
    "for split in boston_splits:\n",
    "    print(f\"{split.index+1}: Length {len(split)}\")"
   ]
  },
  {
   "cell_type": "markdown",
   "metadata": {},
   "source": [
    "### Perform a linear regression for each fold, and calculate the training and test error"
   ]
  },
  {
   "cell_type": "markdown",
   "metadata": {},
   "source": [
    "Perform linear regression on each and calculate the training and test error."
   ]
  },
  {
   "cell_type": "code",
   "execution_count": 98,
   "metadata": {},
   "outputs": [
    {
     "name": "stdout",
     "output_type": "stream",
     "text": [
      "[17.9185670542463, 17.3577081046629, 15.545678258525871, 11.03762238964458, 17.23404426556592]\n",
      "[13.016192102045736, 14.628321831424671, 24.81432997168208, 55.24107772637733, 19.022337999169462]\n"
     ]
    }
   ],
   "source": [
    "from sklearn.linear_model import LinearRegression\n",
    "from sklearn.metrics import mean_squared_error\n",
    "\n",
    "test_errs = []\n",
    "train_errs = []\n",
    "k=5\n",
    "\n",
    "for n in range(k):\n",
    "    # Split in train and test for the fold\n",
    "    train = pd.concat([fold for i, fold in enumerate(boston_splits) if i!=n])\n",
    "    test = boston_splits[n]\n",
    "    \n",
    "    # Fit a linear regression model\n",
    "    linreg = LinearRegression()\n",
    "    linreg.fit(train[X.columns],train[y.columns])\n",
    "    \n",
    "    #predict prices\n",
    "    y_hat_train=linreg.predict(train[X.columns])\n",
    "    y_hat_test=linreg.predict(test[X.columns])\n",
    "    \n",
    "    #Evaluate Train and Test Errors\n",
    "    train_error=mean_squared_error(train[y.columns],y_hat_train)\n",
    "    test_error=mean_squared_error(test[y.columns],y_hat_test)\n",
    "    \n",
    "    train_errs.append(train_error)\n",
    "    test_errs.append(test_error)\n",
    "\n",
    "print(train_errs)\n",
    "print(test_errs)"
   ]
  },
  {
   "cell_type": "markdown",
   "metadata": {},
   "source": [
    "## Cross-Validation using Scikit-Learn"
   ]
  },
  {
   "cell_type": "markdown",
   "metadata": {},
   "source": [
    "This was a bit of work! Now, let's perform 5-fold cross-validation to get the mean squared error through scikit-learn. Let's have a look at the five individual MSEs and explain what's going on."
   ]
  },
  {
   "cell_type": "code",
   "execution_count": 101,
   "metadata": {},
   "outputs": [],
   "source": [
    "from sklearn.model_selection import cross_val_score\n",
    "five_fold_val_scores=cross_val_score(linreg,X,y,cv=5, scoring=\"neg_mean_squared_error\")"
   ]
  },
  {
   "cell_type": "markdown",
   "metadata": {},
   "source": [
    "Next, calculate the mean of the MSE over the 5 cross-validations and compare and contrast with the result from the train-test-split case."
   ]
  },
  {
   "cell_type": "code",
   "execution_count": 105,
   "metadata": {},
   "outputs": [
    {
     "name": "stdout",
     "output_type": "stream",
     "text": [
      "-25.344451926139904\n",
      "25.344451926139858\n"
     ]
    }
   ],
   "source": [
    "print(five_fold_val_scores.mean())\n",
    "print(np.array(test_errs).mean())"
   ]
  },
  {
   "cell_type": "markdown",
   "metadata": {},
   "source": [
    "##  Summary "
   ]
  },
  {
   "cell_type": "markdown",
   "metadata": {},
   "source": [
    "Congratulations! You now practiced your knowledge on k-fold crossvalidation!"
   ]
  }
 ],
 "metadata": {
  "kernelspec": {
   "display_name": "Python 3",
   "language": "python",
   "name": "python3"
  },
  "language_info": {
   "codemirror_mode": {
    "name": "ipython",
    "version": 3
   },
   "file_extension": ".py",
   "mimetype": "text/x-python",
   "name": "python",
   "nbconvert_exporter": "python",
   "pygments_lexer": "ipython3",
   "version": "3.7.3"
  }
 },
 "nbformat": 4,
 "nbformat_minor": 2
}
